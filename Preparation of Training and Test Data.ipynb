{
 "cells": [
  {
   "cell_type": "code",
   "execution_count": null,
   "id": "feb37fc6",
   "metadata": {},
   "outputs": [],
   "source": [
    "from DataPreprocessingFunctions import *\n",
    "import pickle\n",
    "import pandas as pd"
   ]
  },
  {
   "cell_type": "markdown",
   "id": "646798ff",
   "metadata": {},
   "source": [
    "### 1. Read dataframes"
   ]
  },
  {
   "cell_type": "code",
   "execution_count": null,
   "id": "e8de48f2",
   "metadata": {},
   "outputs": [],
   "source": [
    "df_train = pd.read_csv('Data/df_train.csv')\n",
    "df_test = pd.read_csv('Data/df_test.csv')"
   ]
  },
  {
   "cell_type": "code",
   "execution_count": null,
   "id": "3bc5bbf6",
   "metadata": {},
   "outputs": [],
   "source": [
    "df_train"
   ]
  },
  {
   "cell_type": "markdown",
   "id": "8656faa3",
   "metadata": {},
   "source": [
    "### 2. Apply loader object for data extraction"
   ]
  },
  {
   "cell_type": "code",
   "execution_count": null,
   "id": "3a428567",
   "metadata": {},
   "outputs": [],
   "source": [
    "L_train = loader(df_train,12) # arg 12 is the cut-off distance"
   ]
  },
  {
   "cell_type": "code",
   "execution_count": null,
   "id": "73e33f50",
   "metadata": {},
   "outputs": [],
   "source": [
    "L_train.all_at_once()"
   ]
  },
  {
   "cell_type": "code",
   "execution_count": null,
   "id": "ccac0fda",
   "metadata": {},
   "outputs": [],
   "source": [
    "L_test = loader(df_test,12)"
   ]
  },
  {
   "cell_type": "code",
   "execution_count": null,
   "id": "8a4b0f66",
   "metadata": {},
   "outputs": [],
   "source": [
    "L_test.all_at_once()"
   ]
  },
  {
   "cell_type": "markdown",
   "id": "ca6112ec",
   "metadata": {},
   "source": [
    "### 3. Save the instances with pickle"
   ]
  },
  {
   "cell_type": "code",
   "execution_count": null,
   "id": "6c79621e",
   "metadata": {},
   "outputs": [],
   "source": [
    "file = open(f'Data/L_train_12A.pickle', 'wb') \n",
    "pickle.dump(L_train, file)"
   ]
  },
  {
   "cell_type": "code",
   "execution_count": null,
   "id": "9a1ba33c",
   "metadata": {},
   "outputs": [],
   "source": [
    "file = open(f'Data/L_test_12A.pickle', 'wb') \n",
    "pickle.dump(L_test, file)"
   ]
  }
 ],
 "metadata": {
  "kernelspec": {
   "display_name": "Python 3 (ipykernel)",
   "language": "python",
   "name": "python3"
  },
  "language_info": {
   "codemirror_mode": {
    "name": "ipython",
    "version": 3
   },
   "file_extension": ".py",
   "mimetype": "text/x-python",
   "name": "python",
   "nbconvert_exporter": "python",
   "pygments_lexer": "ipython3",
   "version": "3.7.13"
  }
 },
 "nbformat": 4,
 "nbformat_minor": 5
}
