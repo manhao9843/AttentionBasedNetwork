{
 "cells": [
  {
   "cell_type": "code",
   "execution_count": 1,
   "id": "feb37fc6",
   "metadata": {},
   "outputs": [],
   "source": [
    "from DataPreprocessingFunctions import *\n",
    "import pickle\n",
    "import pandas as pd"
   ]
  },
  {
   "cell_type": "markdown",
   "id": "646798ff",
   "metadata": {},
   "source": [
    "### Read dataframes"
   ]
  },
  {
   "cell_type": "code",
   "execution_count": 2,
   "id": "e8de48f2",
   "metadata": {},
   "outputs": [],
   "source": [
    "df_train = pd.read_csv('Data/df_train.csv')\n",
    "df_test = pd.read_csv('Data/df_test.csv')"
   ]
  },
  {
   "cell_type": "code",
   "execution_count": 3,
   "id": "3bc5bbf6",
   "metadata": {},
   "outputs": [
    {
     "data": {
      "text/html": [
       "<div>\n",
       "<style scoped>\n",
       "    .dataframe tbody tr th:only-of-type {\n",
       "        vertical-align: middle;\n",
       "    }\n",
       "\n",
       "    .dataframe tbody tr th {\n",
       "        vertical-align: top;\n",
       "    }\n",
       "\n",
       "    .dataframe thead th {\n",
       "        text-align: right;\n",
       "    }\n",
       "</style>\n",
       "<table border=\"1\" class=\"dataframe\">\n",
       "  <thead>\n",
       "    <tr style=\"text-align: right;\">\n",
       "      <th></th>\n",
       "      <th>Uniprot Entry</th>\n",
       "      <th>PDB Code</th>\n",
       "      <th>Method</th>\n",
       "      <th>Resolution</th>\n",
       "      <th>Chain</th>\n",
       "      <th>Resid</th>\n",
       "      <th>pKa</th>\n",
       "      <th>sasa</th>\n",
       "      <th>Label</th>\n",
       "    </tr>\n",
       "  </thead>\n",
       "  <tbody>\n",
       "    <tr>\n",
       "      <th>0</th>\n",
       "      <td>P0AC38</td>\n",
       "      <td>Ground_Truth/curated/AF-P0AC38-F1-model_v2</td>\n",
       "      <td>Predicted</td>\n",
       "      <td>NaN</td>\n",
       "      <td>A</td>\n",
       "      <td>40</td>\n",
       "      <td>10.32</td>\n",
       "      <td>48.456449</td>\n",
       "      <td>-1</td>\n",
       "    </tr>\n",
       "    <tr>\n",
       "      <th>1</th>\n",
       "      <td>P77671</td>\n",
       "      <td>Ground_Truth/curated/AF-P77671-F1-model_v2</td>\n",
       "      <td>Predicted</td>\n",
       "      <td>NaN</td>\n",
       "      <td>A</td>\n",
       "      <td>444</td>\n",
       "      <td>10.30</td>\n",
       "      <td>19.194182</td>\n",
       "      <td>-1</td>\n",
       "    </tr>\n",
       "    <tr>\n",
       "      <th>2</th>\n",
       "      <td>P0A6F5</td>\n",
       "      <td>Ground_Truth/curated/3ZQ0-alt-1</td>\n",
       "      <td>EM</td>\n",
       "      <td>9.20</td>\n",
       "      <td>B</td>\n",
       "      <td>122</td>\n",
       "      <td>10.10</td>\n",
       "      <td>51.035107</td>\n",
       "      <td>1</td>\n",
       "    </tr>\n",
       "    <tr>\n",
       "      <th>3</th>\n",
       "      <td>P0C0V0</td>\n",
       "      <td>Ground_Truth/curated/AF-P0C0V0-F1-model_v2</td>\n",
       "      <td>Predicted</td>\n",
       "      <td>NaN</td>\n",
       "      <td>A</td>\n",
       "      <td>171</td>\n",
       "      <td>10.39</td>\n",
       "      <td>69.045629</td>\n",
       "      <td>-1</td>\n",
       "    </tr>\n",
       "    <tr>\n",
       "      <th>4</th>\n",
       "      <td>P23349</td>\n",
       "      <td>Ground_Truth/curated/AF-P23349-F1-model_v2</td>\n",
       "      <td>Predicted</td>\n",
       "      <td>NaN</td>\n",
       "      <td>A</td>\n",
       "      <td>78</td>\n",
       "      <td>10.39</td>\n",
       "      <td>71.893515</td>\n",
       "      <td>1</td>\n",
       "    </tr>\n",
       "    <tr>\n",
       "      <th>...</th>\n",
       "      <td>...</td>\n",
       "      <td>...</td>\n",
       "      <td>...</td>\n",
       "      <td>...</td>\n",
       "      <td>...</td>\n",
       "      <td>...</td>\n",
       "      <td>...</td>\n",
       "      <td>...</td>\n",
       "      <td>...</td>\n",
       "    </tr>\n",
       "    <tr>\n",
       "      <th>2209</th>\n",
       "      <td>P73328</td>\n",
       "      <td>doitagain/curated/AF-P73328-F1-model_v3</td>\n",
       "      <td>Predicted</td>\n",
       "      <td>NaN</td>\n",
       "      <td>A</td>\n",
       "      <td>151</td>\n",
       "      <td>11.48</td>\n",
       "      <td>32.716611</td>\n",
       "      <td>-1</td>\n",
       "    </tr>\n",
       "    <tr>\n",
       "      <th>2210</th>\n",
       "      <td>P63284</td>\n",
       "      <td>doitagain/curated/AF-P63284-F1-model_v3</td>\n",
       "      <td>Predicted</td>\n",
       "      <td>NaN</td>\n",
       "      <td>A</td>\n",
       "      <td>842</td>\n",
       "      <td>10.55</td>\n",
       "      <td>69.167169</td>\n",
       "      <td>-1</td>\n",
       "    </tr>\n",
       "    <tr>\n",
       "      <th>2211</th>\n",
       "      <td>Q55861</td>\n",
       "      <td>doitagain/curated/AF-Q55861-F1-model_v3</td>\n",
       "      <td>Predicted</td>\n",
       "      <td>NaN</td>\n",
       "      <td>A</td>\n",
       "      <td>332</td>\n",
       "      <td>10.35</td>\n",
       "      <td>75.145293</td>\n",
       "      <td>-1</td>\n",
       "    </tr>\n",
       "    <tr>\n",
       "      <th>2212</th>\n",
       "      <td>P73598</td>\n",
       "      <td>doitagain/curated/AF-P73598-F1-model_v3</td>\n",
       "      <td>Predicted</td>\n",
       "      <td>NaN</td>\n",
       "      <td>A</td>\n",
       "      <td>151</td>\n",
       "      <td>9.06</td>\n",
       "      <td>36.453307</td>\n",
       "      <td>-1</td>\n",
       "    </tr>\n",
       "    <tr>\n",
       "      <th>2213</th>\n",
       "      <td>P27180</td>\n",
       "      <td>doitagain/curated/AF-P27180-F1-model_v3</td>\n",
       "      <td>Predicted</td>\n",
       "      <td>NaN</td>\n",
       "      <td>A</td>\n",
       "      <td>63</td>\n",
       "      <td>11.34</td>\n",
       "      <td>28.800223</td>\n",
       "      <td>-1</td>\n",
       "    </tr>\n",
       "  </tbody>\n",
       "</table>\n",
       "<p>2214 rows × 9 columns</p>\n",
       "</div>"
      ],
      "text/plain": [
       "     Uniprot Entry                                    PDB Code     Method  \\\n",
       "0           P0AC38  Ground_Truth/curated/AF-P0AC38-F1-model_v2  Predicted   \n",
       "1           P77671  Ground_Truth/curated/AF-P77671-F1-model_v2  Predicted   \n",
       "2           P0A6F5             Ground_Truth/curated/3ZQ0-alt-1         EM   \n",
       "3           P0C0V0  Ground_Truth/curated/AF-P0C0V0-F1-model_v2  Predicted   \n",
       "4           P23349  Ground_Truth/curated/AF-P23349-F1-model_v2  Predicted   \n",
       "...            ...                                         ...        ...   \n",
       "2209        P73328     doitagain/curated/AF-P73328-F1-model_v3  Predicted   \n",
       "2210        P63284     doitagain/curated/AF-P63284-F1-model_v3  Predicted   \n",
       "2211        Q55861     doitagain/curated/AF-Q55861-F1-model_v3  Predicted   \n",
       "2212        P73598     doitagain/curated/AF-P73598-F1-model_v3  Predicted   \n",
       "2213        P27180     doitagain/curated/AF-P27180-F1-model_v3  Predicted   \n",
       "\n",
       "     Resolution Chain  Resid    pKa       sasa  Label  \n",
       "0           NaN     A     40  10.32  48.456449     -1  \n",
       "1           NaN     A    444  10.30  19.194182     -1  \n",
       "2          9.20     B    122  10.10  51.035107      1  \n",
       "3           NaN     A    171  10.39  69.045629     -1  \n",
       "4           NaN     A     78  10.39  71.893515      1  \n",
       "...         ...   ...    ...    ...        ...    ...  \n",
       "2209        NaN     A    151  11.48  32.716611     -1  \n",
       "2210        NaN     A    842  10.55  69.167169     -1  \n",
       "2211        NaN     A    332  10.35  75.145293     -1  \n",
       "2212        NaN     A    151   9.06  36.453307     -1  \n",
       "2213        NaN     A     63  11.34  28.800223     -1  \n",
       "\n",
       "[2214 rows x 9 columns]"
      ]
     },
     "execution_count": 3,
     "metadata": {},
     "output_type": "execute_result"
    }
   ],
   "source": [
    "df_train"
   ]
  },
  {
   "cell_type": "markdown",
   "id": "8656faa3",
   "metadata": {},
   "source": [
    "### Apply loader object for data extraction"
   ]
  },
  {
   "cell_type": "code",
   "execution_count": 4,
   "id": "3a428567",
   "metadata": {},
   "outputs": [],
   "source": [
    "L_train = loader(df_train,12)"
   ]
  },
  {
   "cell_type": "code",
   "execution_count": 6,
   "id": "73e33f50",
   "metadata": {},
   "outputs": [],
   "source": [
    "L_train.threading_load_all()"
   ]
  },
  {
   "cell_type": "code",
   "execution_count": 8,
   "id": "ccac0fda",
   "metadata": {},
   "outputs": [],
   "source": [
    "L_test = loader(df_test,12)"
   ]
  },
  {
   "cell_type": "code",
   "execution_count": 9,
   "id": "8a4b0f66",
   "metadata": {},
   "outputs": [],
   "source": [
    "L_test.threading_load_all()"
   ]
  },
  {
   "cell_type": "markdown",
   "id": "ca6112ec",
   "metadata": {},
   "source": [
    "### Save the instances with pickle"
   ]
  },
  {
   "cell_type": "code",
   "execution_count": null,
   "id": "6c79621e",
   "metadata": {},
   "outputs": [],
   "source": [
    "file = open(f'Data/L_train_12A.pickle', 'wb') \n",
    "pickle.dump(L_train, file)"
   ]
  },
  {
   "cell_type": "code",
   "execution_count": null,
   "id": "9a1ba33c",
   "metadata": {},
   "outputs": [],
   "source": [
    "file = open(f'Data/L_test_12A.pickle', 'wb') \n",
    "pickle.dump(L_test, file)"
   ]
  }
 ],
 "metadata": {
  "kernelspec": {
   "display_name": "Python 3 (ipykernel)",
   "language": "python",
   "name": "python3"
  },
  "language_info": {
   "codemirror_mode": {
    "name": "ipython",
    "version": 3
   },
   "file_extension": ".py",
   "mimetype": "text/x-python",
   "name": "python",
   "nbconvert_exporter": "python",
   "pygments_lexer": "ipython3",
   "version": "3.7.13"
  }
 },
 "nbformat": 4,
 "nbformat_minor": 5
}
